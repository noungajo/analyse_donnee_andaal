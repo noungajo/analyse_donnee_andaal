{
 "cells": [
  {
   "cell_type": "markdown",
   "metadata": {},
   "source": [
    "# Importation"
   ]
  },
  {
   "cell_type": "code",
   "execution_count": 2,
   "metadata": {},
   "outputs": [],
   "source": [
    "import mysql.connector as connection\n",
    "import pandas as pd\n",
    "from datetime import datetime"
   ]
  },
  {
   "cell_type": "markdown",
   "metadata": {},
   "source": [
    "# paramètre de connexion à la base de données"
   ]
  },
  {
   "cell_type": "code",
   "execution_count": 3,
   "metadata": {},
   "outputs": [],
   "source": [
    "host = \"localhost\"\n",
    "port = \"3306\"\n",
    "database = \"my_data_base\"\n",
    "user = \"root\"\n",
    "passwd=\"pwd\"\n",
    "base_url = \"/tmp\""
   ]
  },
  {
   "cell_type": "markdown",
   "metadata": {},
   "source": [
    "# Chargement des données"
   ]
  },
  {
   "cell_type": "code",
   "execution_count": 4,
   "metadata": {},
   "outputs": [],
   "source": [
    "def load_data(query):\n",
    "    try:\n",
    "        mydb = connection.connect(host=host,port=port, database = database,\n",
    "                                  user=user, passwd=passwd,use_pure=True)\n",
    "        result_dataFrame = pd.read_sql(query,mydb)\n",
    "        mydb.close()\n",
    "        return result_dataFrame\n",
    "    except Exception as e:\n",
    "        print(str(e))"
   ]
  },
  {
   "cell_type": "markdown",
   "metadata": {},
   "source": [
    "# Sauvegarde des données dans un fichier csv"
   ]
  },
  {
   "cell_type": "code",
   "execution_count": 6,
   "metadata": {},
   "outputs": [],
   "source": [
    "def save_data(query,filename):\n",
    "    data = load_data(query)\n",
    "    data.to_csv(filename,sep=\",\",index=False,encoding='utf-8')"
   ]
  },
  {
   "cell_type": "markdown",
   "metadata": {},
   "source": [
    "# Tableau des commandes non livrés"
   ]
  },
  {
   "cell_type": "markdown",
   "metadata": {},
   "source": [
    "Il faudra fourni toutes les commandes finalisées et non livrées associées à la date fourni. Ainsi que les informations sur le client et la livraison"
   ]
  },
  {
   "cell_type": "markdown",
   "metadata": {},
   "source": [
    "## Requête"
   ]
  },
  {
   "cell_type": "markdown",
   "metadata": {},
   "source": [
    "Date à associer à la requête."
   ]
  },
  {
   "cell_type": "code",
   "execution_count": 7,
   "metadata": {},
   "outputs": [],
   "source": [
    "date_cmd_non_livre = \"2023-06-12\""
   ]
  },
  {
   "cell_type": "code",
   "execution_count": 11,
   "metadata": {},
   "outputs": [],
   "source": [
    "comande_non_livre_utilisateur_info = 'SELECT cmd.id, cmd.token_value,cmd.number AS numero,cmd.checkout_completed_at AS Date_finalisation_commande,cmd.items_total,cmd.adjustments_total AS Frais_livraison, cmd.total,billingadress.first_name AS Facturation_first_name,billingadress.last_name AS Facturation_last_name,billingadress.phone_number as Facturation_phone_number, shipadress.first_name AS Livraison_first_name,shipadress.last_name AS Livraison_last_name,shipadress.phone_number as Livraison_phone_number,cmd.shipping_state FROM andaal_db.sylius_order AS cmd JOIN andaal_db.sylius_address AS billingadress  ON cmd.billing_address_id = billingadress.id  JOIN andaal_db.sylius_address AS shipadress  ON cmd.shipping_address_id = shipadress.id WHERE cmd.checkout_state = \"completed\" AND cmd.shipping_state != \"shipped\" AND date(cmd.checkout_completed_at) =\"{date_cmd_non_livre}\";'"
   ]
  },
  {
   "cell_type": "code",
   "execution_count": 12,
   "metadata": {},
   "outputs": [
    {
     "name": "stderr",
     "output_type": "stream",
     "text": [
      "<ipython-input-4-993b066a6deb>:5: UserWarning: pandas only supports SQLAlchemy connectable (engine/connection) or database string URI or sqlite3 DBAPI2 connection. Other DBAPI2 objects are not tested. Please consider using SQLAlchemy.\n",
      "  result_dataFrame = pd.read_sql(query,mydb)\n"
     ]
    }
   ],
   "source": [
    "date_formated = datetime.strptime(date_cmd_non_livre, '%Y-%m-%d')\n",
    "file_name = f\"{date_formated.strftime('%Y%m%d')}_tableau_commandes_non_livres.csv\"\n",
    "save_data(comande_non_livre_utilisateur_info,file_name)"
   ]
  },
  {
   "cell_type": "markdown",
   "metadata": {},
   "source": [
    "# Toutes les commandes livrees"
   ]
  },
  {
   "cell_type": "markdown",
   "metadata": {},
   "source": [
    "Fournir toutes les commandes livrées selon la date fournie"
   ]
  },
  {
   "cell_type": "code",
   "execution_count": 13,
   "metadata": {},
   "outputs": [],
   "source": [
    "date_cmd_livre = \"2023-07-17\""
   ]
  },
  {
   "cell_type": "code",
   "execution_count": 14,
   "metadata": {},
   "outputs": [],
   "source": [
    "query_all_shipped_order = 'SELECT cmd.id, cmd.token_value,cmd.number AS numero,cmd.checkout_completed_at AS Date_finalisation_commande,cmd.items_total,cmd.adjustments_total AS Frais_livraison, cmd.total,billingadress.first_name AS Facturation_first_name,billingadress.last_name AS Facturation_last_name,billingadress.phone_number as Facturation_phone_number, shipadress.first_name AS Livraison_first_name,shipadress.last_name AS Livraison_last_name,shipadress.phone_number as Livraison_phone_number,cmd.shipping_state FROM andaal_db.sylius_order AS cmd JOIN andaal_db.sylius_address AS billingadress  ON cmd.billing_address_id = billingadress.id  JOIN andaal_db.sylius_address AS shipadress  ON cmd.shipping_address_id = shipadress.id WHERE cmd.checkout_state = \"completed\" AND cmd.shipping_state = \"shipped\" AND date(cmd.checkout_completed_at) = \"{date_cmd_livre}\";'\n",
    "#AND date(cmd.checkout_completed_at) = {date_cmd_livre}"
   ]
  },
  {
   "cell_type": "code",
   "execution_count": 15,
   "metadata": {},
   "outputs": [
    {
     "name": "stderr",
     "output_type": "stream",
     "text": [
      "<ipython-input-4-993b066a6deb>:5: UserWarning: pandas only supports SQLAlchemy connectable (engine/connection) or database string URI or sqlite3 DBAPI2 connection. Other DBAPI2 objects are not tested. Please consider using SQLAlchemy.\n",
      "  result_dataFrame = pd.read_sql(query,mydb)\n"
     ]
    }
   ],
   "source": [
    "date_formated = datetime.strptime(date_cmd_livre, '%Y-%m-%d')\n",
    "file_name = f\"{date_formated.strftime('%Y%m%d')}_tableau_commandes_livres.csv\"\n",
    "save_data(query_all_shipped_order,file_name)"
   ]
  },
  {
   "cell_type": "markdown",
   "metadata": {},
   "source": [
    "# Nombre de livres vendus"
   ]
  },
  {
   "cell_type": "markdown",
   "metadata": {},
   "source": [
    "Lorsqu'une date est fourni, il faudra extraire le nombre de livres vendu et non livré. Ceci est pour suivre les\n",
    "commandes non livrées."
   ]
  },
  {
   "cell_type": "code",
   "execution_count": 16,
   "metadata": {},
   "outputs": [],
   "source": [
    "date_livre_vendu = \"2023-06-12 20:29:21\"\n",
    "date_debut = date_livre_vendu[0:10]+\" 00:00:00\"#utilisé pour choisir sur une plage d'heure:si on veut pour aujourd'hui à 16h on prend d'aujourd'hui à 00:00 à 16h\n",
    "code_livre = \"ca\"#utilisé pour différencier un livre d'un autre manuel scolaire"
   ]
  },
  {
   "cell_type": "markdown",
   "metadata": {},
   "source": [
    "Requete pour avoir tous les livres vendus et non livrés"
   ]
  },
  {
   "cell_type": "code",
   "execution_count": 17,
   "metadata": {},
   "outputs": [],
   "source": [
    "query_livres_vendu ='SELECT livre.product_name, SUM(livre.quantity) AS total_quantity FROM andaal_db.sylius_order AS cmd JOIN andaal_db.sylius_order_item AS livre ON cmd.id = livre.order_id WHERE (cmd.payment_state = \"paid\" OR (cmd.notes LIKE \"%status: successful%\" AND cmd.payment_state = \"awaiting_payment\" AND cmd.checkout_state = \"completed\") AND cmd.shipping_state <> \"shipped\" AND (checkout_completed_at BETWEEN  \"date_debut\" AND \"{date_livre_vendu}\")) AND livre.variant_id IN (SELECT id FROM andaal_db.sylius_product_variant WHERE code LIKE CONCAT(\"{code_livre}\",\"%\")) GROUP BY livre.product_name;'"
   ]
  },
  {
   "cell_type": "markdown",
   "metadata": {},
   "source": [
    "Exécution de la requete"
   ]
  },
  {
   "cell_type": "code",
   "execution_count": 18,
   "metadata": {},
   "outputs": [
    {
     "name": "stderr",
     "output_type": "stream",
     "text": [
      "<ipython-input-4-993b066a6deb>:5: UserWarning: pandas only supports SQLAlchemy connectable (engine/connection) or database string URI or sqlite3 DBAPI2 connection. Other DBAPI2 objects are not tested. Please consider using SQLAlchemy.\n",
      "  result_dataFrame = pd.read_sql(query,mydb)\n"
     ]
    }
   ],
   "source": [
    "file_name = date_livre_vendu+\"_tableau_livre_vendu.csv\"\n",
    "save_data(query_livres_vendu,file_name)"
   ]
  },
  {
   "cell_type": "markdown",
   "metadata": {},
   "source": [
    "# Nombre de cahiers vendus"
   ]
  },
  {
   "cell_type": "markdown",
   "metadata": {},
   "source": [
    "Lorsqu'une date est fournie, il faudra extraire le nombre de cahiers vendu et non livré. Ceci est pour suivre les\n",
    "commandes non livrées."
   ]
  },
  {
   "cell_type": "code",
   "execution_count": 19,
   "metadata": {},
   "outputs": [],
   "source": [
    "date_cahier_vendu = \"2023-06-12 20:29:21\"\n",
    "date_debut = date_cahier_vendu[0:10]+\" 00:00:00\"#utilisé pour choisir sur une plage d'heure:si on veut pour aujourd'hui à 16h on prend d'aujourd'hui à 00:00 à 16h\n",
    "code_cahier = \"\"#utilisé pour différencier un livre d'un autre manuel scolaire"
   ]
  },
  {
   "cell_type": "markdown",
   "metadata": {},
   "source": [
    "Requete pour avoir tous les cahiers vendus et non livrés"
   ]
  },
  {
   "cell_type": "code",
   "execution_count": 20,
   "metadata": {},
   "outputs": [],
   "source": [
    "query_cahiers_vendu ='SELECT cahier.product_name, SUM(cahier.quantity) AS total_quantity FROM andaal_db.sylius_order AS cmd JOIN andaal_db.sylius_order_item AS cahier ON cmd.id = cahier.order_id WHERE (cmd.payment_state = \"paid\" OR (cmd.notes LIKE \"%status: successful%\" AND cmd.payment_state = \"awaiting_payment\" AND cmd.checkout_state = \"completed\") AND cmd.shipping_state <> \"shipped\" AND (checkout_completed_at BETWEEN  \"date_debut\" AND \"{date_cahier_vendu}\")) AND cahier.variant_id IN (SELECT id FROM andaal_db.sylius_product_variant WHERE code LIKE CONCAT(\"{code_cahier}\",\"%\")) GROUP BY cahier.product_name;'"
   ]
  },
  {
   "cell_type": "markdown",
   "metadata": {},
   "source": [
    "Exécution de la requete"
   ]
  },
  {
   "cell_type": "code",
   "execution_count": 21,
   "metadata": {},
   "outputs": [
    {
     "name": "stderr",
     "output_type": "stream",
     "text": [
      "<ipython-input-4-993b066a6deb>:5: UserWarning: pandas only supports SQLAlchemy connectable (engine/connection) or database string URI or sqlite3 DBAPI2 connection. Other DBAPI2 objects are not tested. Please consider using SQLAlchemy.\n",
      "  result_dataFrame = pd.read_sql(query,mydb)\n"
     ]
    }
   ],
   "source": [
    "file_name = date_cahier_vendu+\"_tableau_cahier_vendu.csv\"\n",
    "save_data(query_cahiers_vendu,file_name)"
   ]
  },
  {
   "cell_type": "markdown",
   "metadata": {},
   "source": [
    "# Nombre des autres fournitures vendus"
   ]
  },
  {
   "cell_type": "markdown",
   "metadata": {},
   "source": [
    "Lorsqu'une date est fournie, il faudra extraire le nombre des autres fournitures vendu et non livré. Ceci est pour suivre les commandes non livrées."
   ]
  },
  {
   "cell_type": "code",
   "execution_count": 22,
   "metadata": {},
   "outputs": [],
   "source": [
    "date_autre_fourniture_vendu = \"2023-06-12 20:29:21\"\n",
    "date_debut = date_autre_fourniture_vendu[0:10]+\" 00:00:00\"\n",
    "code_autre_fourniture = \"\""
   ]
  },
  {
   "cell_type": "markdown",
   "metadata": {},
   "source": [
    "Requete pour avoir tous les cahiers vendus et non livrés"
   ]
  },
  {
   "cell_type": "code",
   "execution_count": 23,
   "metadata": {},
   "outputs": [],
   "source": [
    "query_autre_fourniture_vendu ='SELECT autre_fourniture.product_name, SUM(autre_fourniture.quantity) AS total_quantity FROM andaal_db.sylius_order AS cmd JOIN andaal_db.sylius_order_item AS autre_fourniture ON cmd.id = autre_fourniture.order_id WHERE (cmd.payment_state = \"paid\" OR (cmd.notes LIKE \"%status: successful%\" AND cmd.payment_state = \"awaiting_payment\" AND cmd.checkout_state = \"completed\") AND cmd.shipping_state <> \"shipped\" AND (checkout_completed_at BETWEEN  \"date_debut\" AND \"{date_autre_fourniture_vendu}\")) AND autre_fourniture.variant_id IN (SELECT id FROM andaal_db.sylius_product_variant WHERE code LIKE CONCAT(\"{code_autre_fourniture}\",\"%\")) GROUP BY autre_fourniture.product_name;'"
   ]
  },
  {
   "cell_type": "markdown",
   "metadata": {},
   "source": [
    "Exécution de la requête"
   ]
  },
  {
   "cell_type": "code",
   "execution_count": 24,
   "metadata": {},
   "outputs": [
    {
     "name": "stderr",
     "output_type": "stream",
     "text": [
      "<ipython-input-4-993b066a6deb>:5: UserWarning: pandas only supports SQLAlchemy connectable (engine/connection) or database string URI or sqlite3 DBAPI2 connection. Other DBAPI2 objects are not tested. Please consider using SQLAlchemy.\n",
      "  result_dataFrame = pd.read_sql(query,mydb)\n"
     ]
    }
   ],
   "source": [
    "file_name = date_autre_fourniture_vendu+\"_tableau_autre_fourniture_vendu.csv\"\n",
    "save_data(query_autre_fourniture_vendu,file_name)"
   ]
  },
  {
   "cell_type": "markdown",
   "metadata": {},
   "source": [
    "## Nombre d'oeuvres vendues"
   ]
  },
  {
   "cell_type": "markdown",
   "metadata": {},
   "source": [
    "Lorsqu'une date est fournie, il faudra extraire le nombre des autres fournitures vendu et non livré. Ceci est pour suivre les commandes non livrées."
   ]
  },
  {
   "cell_type": "code",
   "execution_count": 25,
   "metadata": {},
   "outputs": [],
   "source": [
    "date_oeuvre_vendu = \"2023-06-12 20:29:21\"\n",
    "date_debut = date_oeuvre_vendu[0:10]+\" 00:00:00\"\n",
    "code_oeuvre = \"\""
   ]
  },
  {
   "cell_type": "markdown",
   "metadata": {},
   "source": [
    "Requête pour avoir les oeuvres vendues et non livrés"
   ]
  },
  {
   "cell_type": "code",
   "execution_count": 26,
   "metadata": {},
   "outputs": [],
   "source": [
    "query_oeuvre_vendu ='SELECT oeuvre.product_name, SUM(oeuvre.quantity) AS total_quantity FROM andaal_db.sylius_order AS cmd JOIN andaal_db.sylius_order_item AS oeuvre ON cmd.id = oeuvre.order_id WHERE (cmd.payment_state = \"paid\" OR (cmd.notes LIKE \"%status: successful%\" AND cmd.payment_state = \"awaiting_payment\" AND cmd.checkout_state = \"completed\") AND cmd.shipping_state <> \"shipped\" AND (checkout_completed_at BETWEEN  \"date_debut\" AND \"{date_oeuvre_vendu}\")) AND oeuvre.variant_id IN (SELECT id FROM andaal_db.sylius_product_variant WHERE code LIKE CONCAT(\"{code_oeuvre}\",\"%\")) GROUP BY oeuvre.product_name;'"
   ]
  },
  {
   "cell_type": "markdown",
   "metadata": {},
   "source": [
    "Exécution de la requête"
   ]
  },
  {
   "cell_type": "code",
   "execution_count": 27,
   "metadata": {},
   "outputs": [
    {
     "name": "stderr",
     "output_type": "stream",
     "text": [
      "<ipython-input-4-993b066a6deb>:5: UserWarning: pandas only supports SQLAlchemy connectable (engine/connection) or database string URI or sqlite3 DBAPI2 connection. Other DBAPI2 objects are not tested. Please consider using SQLAlchemy.\n",
      "  result_dataFrame = pd.read_sql(query,mydb)\n"
     ]
    }
   ],
   "source": [
    "file_name = date_oeuvre_vendu+\"_tableau_oeuvre_vendu.csv\"\n",
    "save_data(query_oeuvre_vendu,file_name)"
   ]
  }
 ],
 "metadata": {
  "kernelspec": {
   "display_name": "Python 3",
   "language": "python",
   "name": "python3"
  },
  "language_info": {
   "codemirror_mode": {
    "name": "ipython",
    "version": 3
   },
   "file_extension": ".py",
   "mimetype": "text/x-python",
   "name": "python",
   "nbconvert_exporter": "python",
   "pygments_lexer": "ipython3",
   "version": "3.8.10"
  }
 },
 "nbformat": 4,
 "nbformat_minor": 4
}
